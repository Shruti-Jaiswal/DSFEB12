{
  "nbformat": 4,
  "nbformat_minor": 0,
  "metadata": {
    "colab": {
      "provenance": [],
      "authorship_tag": "ABX9TyOeEA7Lffd0Jjp0pJ3Dx2vp",
      "include_colab_link": true
    },
    "kernelspec": {
      "name": "python3",
      "display_name": "Python 3"
    },
    "language_info": {
      "name": "python"
    }
  },
  "cells": [
    {
      "cell_type": "markdown",
      "metadata": {
        "id": "view-in-github",
        "colab_type": "text"
      },
      "source": [
        "<a href=\"https://colab.research.google.com/github/Shruti-Jaiswal/DSFEB12/blob/main/Multiple_Linear_Regression_50_Startups.ipynb\" target=\"_parent\"><img src=\"https://colab.research.google.com/assets/colab-badge.svg\" alt=\"Open In Colab\"/></a>"
      ]
    },
    {
      "cell_type": "code",
      "execution_count": null,
      "metadata": {
        "id": "TcMP99-QYWKy"
      },
      "outputs": [],
      "source": [
        "# importing packages\n",
        "import pandas as pd\n",
        "import numpy as np\n",
        "import matplotlib.pyplot as plt # mathematical plotting lib. and pyplot - python plot "
      ]
    },
    {
      "cell_type": "code",
      "source": [
        "dataset = pd.read_csv(\"/content/50_Startups.csv\")"
      ],
      "metadata": {
        "id": "nElTpXRWbDhX"
      },
      "execution_count": null,
      "outputs": []
    },
    {
      "cell_type": "code",
      "source": [
        "dataset.head()"
      ],
      "metadata": {
        "colab": {
          "base_uri": "https://localhost:8080/",
          "height": 206
        },
        "id": "x9lSUb10beft",
        "outputId": "a7ea88e9-a5eb-453a-ad11-9883258790af"
      },
      "execution_count": null,
      "outputs": [
        {
          "output_type": "execute_result",
          "data": {
            "text/plain": [
              "   R&D Spend  Administration  Marketing Spend       State     Profit\n",
              "0  165349.20       136897.80        471784.10    New York  192261.83\n",
              "1  162597.70       151377.59        443898.53  California  191792.06\n",
              "2  153441.51       101145.55        407934.54     Florida  191050.39\n",
              "3  144372.41       118671.85        383199.62    New York  182901.99\n",
              "4  142107.34        91391.77        366168.42     Florida  166187.94"
            ],
            "text/html": [
              "\n",
              "  <div id=\"df-542a40f7-ef65-499e-9d5a-e3c493ff501a\">\n",
              "    <div class=\"colab-df-container\">\n",
              "      <div>\n",
              "<style scoped>\n",
              "    .dataframe tbody tr th:only-of-type {\n",
              "        vertical-align: middle;\n",
              "    }\n",
              "\n",
              "    .dataframe tbody tr th {\n",
              "        vertical-align: top;\n",
              "    }\n",
              "\n",
              "    .dataframe thead th {\n",
              "        text-align: right;\n",
              "    }\n",
              "</style>\n",
              "<table border=\"1\" class=\"dataframe\">\n",
              "  <thead>\n",
              "    <tr style=\"text-align: right;\">\n",
              "      <th></th>\n",
              "      <th>R&amp;D Spend</th>\n",
              "      <th>Administration</th>\n",
              "      <th>Marketing Spend</th>\n",
              "      <th>State</th>\n",
              "      <th>Profit</th>\n",
              "    </tr>\n",
              "  </thead>\n",
              "  <tbody>\n",
              "    <tr>\n",
              "      <th>0</th>\n",
              "      <td>165349.20</td>\n",
              "      <td>136897.80</td>\n",
              "      <td>471784.10</td>\n",
              "      <td>New York</td>\n",
              "      <td>192261.83</td>\n",
              "    </tr>\n",
              "    <tr>\n",
              "      <th>1</th>\n",
              "      <td>162597.70</td>\n",
              "      <td>151377.59</td>\n",
              "      <td>443898.53</td>\n",
              "      <td>California</td>\n",
              "      <td>191792.06</td>\n",
              "    </tr>\n",
              "    <tr>\n",
              "      <th>2</th>\n",
              "      <td>153441.51</td>\n",
              "      <td>101145.55</td>\n",
              "      <td>407934.54</td>\n",
              "      <td>Florida</td>\n",
              "      <td>191050.39</td>\n",
              "    </tr>\n",
              "    <tr>\n",
              "      <th>3</th>\n",
              "      <td>144372.41</td>\n",
              "      <td>118671.85</td>\n",
              "      <td>383199.62</td>\n",
              "      <td>New York</td>\n",
              "      <td>182901.99</td>\n",
              "    </tr>\n",
              "    <tr>\n",
              "      <th>4</th>\n",
              "      <td>142107.34</td>\n",
              "      <td>91391.77</td>\n",
              "      <td>366168.42</td>\n",
              "      <td>Florida</td>\n",
              "      <td>166187.94</td>\n",
              "    </tr>\n",
              "  </tbody>\n",
              "</table>\n",
              "</div>\n",
              "      <button class=\"colab-df-convert\" onclick=\"convertToInteractive('df-542a40f7-ef65-499e-9d5a-e3c493ff501a')\"\n",
              "              title=\"Convert this dataframe to an interactive table.\"\n",
              "              style=\"display:none;\">\n",
              "        \n",
              "  <svg xmlns=\"http://www.w3.org/2000/svg\" height=\"24px\"viewBox=\"0 0 24 24\"\n",
              "       width=\"24px\">\n",
              "    <path d=\"M0 0h24v24H0V0z\" fill=\"none\"/>\n",
              "    <path d=\"M18.56 5.44l.94 2.06.94-2.06 2.06-.94-2.06-.94-.94-2.06-.94 2.06-2.06.94zm-11 1L8.5 8.5l.94-2.06 2.06-.94-2.06-.94L8.5 2.5l-.94 2.06-2.06.94zm10 10l.94 2.06.94-2.06 2.06-.94-2.06-.94-.94-2.06-.94 2.06-2.06.94z\"/><path d=\"M17.41 7.96l-1.37-1.37c-.4-.4-.92-.59-1.43-.59-.52 0-1.04.2-1.43.59L10.3 9.45l-7.72 7.72c-.78.78-.78 2.05 0 2.83L4 21.41c.39.39.9.59 1.41.59.51 0 1.02-.2 1.41-.59l7.78-7.78 2.81-2.81c.8-.78.8-2.07 0-2.86zM5.41 20L4 18.59l7.72-7.72 1.47 1.35L5.41 20z\"/>\n",
              "  </svg>\n",
              "      </button>\n",
              "      \n",
              "  <style>\n",
              "    .colab-df-container {\n",
              "      display:flex;\n",
              "      flex-wrap:wrap;\n",
              "      gap: 12px;\n",
              "    }\n",
              "\n",
              "    .colab-df-convert {\n",
              "      background-color: #E8F0FE;\n",
              "      border: none;\n",
              "      border-radius: 50%;\n",
              "      cursor: pointer;\n",
              "      display: none;\n",
              "      fill: #1967D2;\n",
              "      height: 32px;\n",
              "      padding: 0 0 0 0;\n",
              "      width: 32px;\n",
              "    }\n",
              "\n",
              "    .colab-df-convert:hover {\n",
              "      background-color: #E2EBFA;\n",
              "      box-shadow: 0px 1px 2px rgba(60, 64, 67, 0.3), 0px 1px 3px 1px rgba(60, 64, 67, 0.15);\n",
              "      fill: #174EA6;\n",
              "    }\n",
              "\n",
              "    [theme=dark] .colab-df-convert {\n",
              "      background-color: #3B4455;\n",
              "      fill: #D2E3FC;\n",
              "    }\n",
              "\n",
              "    [theme=dark] .colab-df-convert:hover {\n",
              "      background-color: #434B5C;\n",
              "      box-shadow: 0px 1px 3px 1px rgba(0, 0, 0, 0.15);\n",
              "      filter: drop-shadow(0px 1px 2px rgba(0, 0, 0, 0.3));\n",
              "      fill: #FFFFFF;\n",
              "    }\n",
              "  </style>\n",
              "\n",
              "      <script>\n",
              "        const buttonEl =\n",
              "          document.querySelector('#df-542a40f7-ef65-499e-9d5a-e3c493ff501a button.colab-df-convert');\n",
              "        buttonEl.style.display =\n",
              "          google.colab.kernel.accessAllowed ? 'block' : 'none';\n",
              "\n",
              "        async function convertToInteractive(key) {\n",
              "          const element = document.querySelector('#df-542a40f7-ef65-499e-9d5a-e3c493ff501a');\n",
              "          const dataTable =\n",
              "            await google.colab.kernel.invokeFunction('convertToInteractive',\n",
              "                                                     [key], {});\n",
              "          if (!dataTable) return;\n",
              "\n",
              "          const docLinkHtml = 'Like what you see? Visit the ' +\n",
              "            '<a target=\"_blank\" href=https://colab.research.google.com/notebooks/data_table.ipynb>data table notebook</a>'\n",
              "            + ' to learn more about interactive tables.';\n",
              "          element.innerHTML = '';\n",
              "          dataTable['output_type'] = 'display_data';\n",
              "          await google.colab.output.renderOutput(dataTable, element);\n",
              "          const docLink = document.createElement('div');\n",
              "          docLink.innerHTML = docLinkHtml;\n",
              "          element.appendChild(docLink);\n",
              "        }\n",
              "      </script>\n",
              "    </div>\n",
              "  </div>\n",
              "  "
            ]
          },
          "metadata": {},
          "execution_count": 3
        }
      ]
    },
    {
      "cell_type": "code",
      "source": [
        "dataset.info()"
      ],
      "metadata": {
        "colab": {
          "base_uri": "https://localhost:8080/"
        },
        "id": "UdFcccLxbn0U",
        "outputId": "8fb5745e-874d-4231-b50d-513f1ed80f6b"
      },
      "execution_count": null,
      "outputs": [
        {
          "output_type": "stream",
          "name": "stdout",
          "text": [
            "<class 'pandas.core.frame.DataFrame'>\n",
            "RangeIndex: 50 entries, 0 to 49\n",
            "Data columns (total 5 columns):\n",
            " #   Column           Non-Null Count  Dtype  \n",
            "---  ------           --------------  -----  \n",
            " 0   R&D Spend        50 non-null     float64\n",
            " 1   Administration   50 non-null     float64\n",
            " 2   Marketing Spend  50 non-null     float64\n",
            " 3   State            50 non-null     object \n",
            " 4   Profit           50 non-null     float64\n",
            "dtypes: float64(4), object(1)\n",
            "memory usage: 2.1+ KB\n"
          ]
        }
      ]
    },
    {
      "cell_type": "code",
      "source": [
        "dataset.describe()"
      ],
      "metadata": {
        "id": "dmL_xwlpbwPa"
      },
      "execution_count": null,
      "outputs": []
    },
    {
      "cell_type": "code",
      "source": [
        "# Indepenent and dependent variables (depend on problem statement)\n",
        "x = dataset.iloc[:,:-1].values\n",
        "y = dataset.iloc[:,-1].values"
      ],
      "metadata": {
        "id": "tAcrO6vucMR3"
      },
      "execution_count": null,
      "outputs": []
    },
    {
      "cell_type": "code",
      "source": [
        "# Encoding Categorical Data\n",
        "from sklearn.compose import ColumnTransformer \n",
        "from sklearn.preprocessing import OneHotEncoder\n",
        "ct = ColumnTransformer(transformers = [('encoder', OneHotEncoder(),[3])], remainder='passthrough')\n",
        "x = np.array(ct.fit_transform(x))"
      ],
      "metadata": {
        "id": "sHWDtNa3Z84w"
      },
      "execution_count": null,
      "outputs": []
    },
    {
      "cell_type": "code",
      "source": [
        "x"
      ],
      "metadata": {
        "colab": {
          "base_uri": "https://localhost:8080/"
        },
        "id": "BZP0Zh_JaM5Y",
        "outputId": "08a12e45-f761-4564-9315-ff1ce5ae4fe5"
      },
      "execution_count": null,
      "outputs": [
        {
          "output_type": "execute_result",
          "data": {
            "text/plain": [
              "array([[0.0, 0.0, 1.0, 165349.2, 136897.8, 471784.1],\n",
              "       [1.0, 0.0, 0.0, 162597.7, 151377.59, 443898.53],\n",
              "       [0.0, 1.0, 0.0, 153441.51, 101145.55, 407934.54],\n",
              "       [0.0, 0.0, 1.0, 144372.41, 118671.85, 383199.62],\n",
              "       [0.0, 1.0, 0.0, 142107.34, 91391.77, 366168.42],\n",
              "       [0.0, 0.0, 1.0, 131876.9, 99814.71, 362861.36],\n",
              "       [1.0, 0.0, 0.0, 134615.46, 147198.87, 127716.82],\n",
              "       [0.0, 1.0, 0.0, 130298.13, 145530.06, 323876.68],\n",
              "       [0.0, 0.0, 1.0, 120542.52, 148718.95, 311613.29],\n",
              "       [1.0, 0.0, 0.0, 123334.88, 108679.17, 304981.62],\n",
              "       [0.0, 1.0, 0.0, 101913.08, 110594.11, 229160.95],\n",
              "       [1.0, 0.0, 0.0, 100671.96, 91790.61, 249744.55],\n",
              "       [0.0, 1.0, 0.0, 93863.75, 127320.38, 249839.44],\n",
              "       [1.0, 0.0, 0.0, 91992.39, 135495.07, 252664.93],\n",
              "       [0.0, 1.0, 0.0, 119943.24, 156547.42, 256512.92],\n",
              "       [0.0, 0.0, 1.0, 114523.61, 122616.84, 261776.23],\n",
              "       [1.0, 0.0, 0.0, 78013.11, 121597.55, 264346.06],\n",
              "       [0.0, 0.0, 1.0, 94657.16, 145077.58, 282574.31],\n",
              "       [0.0, 1.0, 0.0, 91749.16, 114175.79, 294919.57],\n",
              "       [0.0, 0.0, 1.0, 86419.7, 153514.11, 0.0],\n",
              "       [1.0, 0.0, 0.0, 76253.86, 113867.3, 298664.47],\n",
              "       [0.0, 0.0, 1.0, 78389.47, 153773.43, 299737.29],\n",
              "       [0.0, 1.0, 0.0, 73994.56, 122782.75, 303319.26],\n",
              "       [0.0, 1.0, 0.0, 67532.53, 105751.03, 304768.73],\n",
              "       [0.0, 0.0, 1.0, 77044.01, 99281.34, 140574.81],\n",
              "       [1.0, 0.0, 0.0, 64664.71, 139553.16, 137962.62],\n",
              "       [0.0, 1.0, 0.0, 75328.87, 144135.98, 134050.07],\n",
              "       [0.0, 0.0, 1.0, 72107.6, 127864.55, 353183.81],\n",
              "       [0.0, 1.0, 0.0, 66051.52, 182645.56, 118148.2],\n",
              "       [0.0, 0.0, 1.0, 65605.48, 153032.06, 107138.38],\n",
              "       [0.0, 1.0, 0.0, 61994.48, 115641.28, 91131.24],\n",
              "       [0.0, 0.0, 1.0, 61136.38, 152701.92, 88218.23],\n",
              "       [1.0, 0.0, 0.0, 63408.86, 129219.61, 46085.25],\n",
              "       [0.0, 1.0, 0.0, 55493.95, 103057.49, 214634.81],\n",
              "       [1.0, 0.0, 0.0, 46426.07, 157693.92, 210797.67],\n",
              "       [0.0, 0.0, 1.0, 46014.02, 85047.44, 205517.64],\n",
              "       [0.0, 1.0, 0.0, 28663.76, 127056.21, 201126.82],\n",
              "       [1.0, 0.0, 0.0, 44069.95, 51283.14, 197029.42],\n",
              "       [0.0, 0.0, 1.0, 20229.59, 65947.93, 185265.1],\n",
              "       [1.0, 0.0, 0.0, 38558.51, 82982.09, 174999.3],\n",
              "       [1.0, 0.0, 0.0, 28754.33, 118546.05, 172795.67],\n",
              "       [0.0, 1.0, 0.0, 27892.92, 84710.77, 164470.71],\n",
              "       [1.0, 0.0, 0.0, 23640.93, 96189.63, 148001.11],\n",
              "       [0.0, 0.0, 1.0, 15505.73, 127382.3, 35534.17],\n",
              "       [1.0, 0.0, 0.0, 22177.74, 154806.14, 28334.72],\n",
              "       [0.0, 0.0, 1.0, 1000.23, 124153.04, 1903.93],\n",
              "       [0.0, 1.0, 0.0, 1315.46, 115816.21, 297114.46],\n",
              "       [1.0, 0.0, 0.0, 0.0, 135426.92, 0.0],\n",
              "       [0.0, 0.0, 1.0, 542.05, 51743.15, 0.0],\n",
              "       [1.0, 0.0, 0.0, 0.0, 116983.8, 45173.06]], dtype=object)"
            ]
          },
          "metadata": {},
          "execution_count": 7
        }
      ]
    },
    {
      "cell_type": "code",
      "source": [
        "# Avoiding the Dummy Variable\n",
        "x = x[:,1:]"
      ],
      "metadata": {
        "id": "tewPkpJJbJht"
      },
      "execution_count": null,
      "outputs": []
    },
    {
      "cell_type": "code",
      "source": [
        "# Splitting the dataset into the Training set and Test set\n",
        "from sklearn.model_selection import train_test_split\n",
        "x_train, x_test , y_train, y_test = train_test_split(x, y , test_size = 0.2, random_state = 0)"
      ],
      "metadata": {
        "id": "-_TuS-BtoB7J"
      },
      "execution_count": null,
      "outputs": []
    },
    {
      "cell_type": "code",
      "source": [
        "x_train"
      ],
      "metadata": {
        "colab": {
          "base_uri": "https://localhost:8080/"
        },
        "id": "emykcNFD2JjT",
        "outputId": "1fca7802-1904-4bb3-ec60-6babfdd02622"
      },
      "execution_count": null,
      "outputs": [
        {
          "output_type": "execute_result",
          "data": {
            "text/plain": [
              "array([[1.0, 0.0, 55493.95, 103057.49, 214634.81],\n",
              "       [0.0, 1.0, 46014.02, 85047.44, 205517.64],\n",
              "       [1.0, 0.0, 75328.87, 144135.98, 134050.07],\n",
              "       [0.0, 0.0, 46426.07, 157693.92, 210797.67],\n",
              "       [1.0, 0.0, 91749.16, 114175.79, 294919.57],\n",
              "       [1.0, 0.0, 130298.13, 145530.06, 323876.68],\n",
              "       [1.0, 0.0, 119943.24, 156547.42, 256512.92],\n",
              "       [0.0, 1.0, 1000.23, 124153.04, 1903.93],\n",
              "       [0.0, 1.0, 542.05, 51743.15, 0.0],\n",
              "       [0.0, 1.0, 65605.48, 153032.06, 107138.38],\n",
              "       [0.0, 1.0, 114523.61, 122616.84, 261776.23],\n",
              "       [1.0, 0.0, 61994.48, 115641.28, 91131.24],\n",
              "       [0.0, 0.0, 63408.86, 129219.61, 46085.25],\n",
              "       [0.0, 0.0, 78013.11, 121597.55, 264346.06],\n",
              "       [0.0, 0.0, 23640.93, 96189.63, 148001.11],\n",
              "       [0.0, 0.0, 76253.86, 113867.3, 298664.47],\n",
              "       [0.0, 1.0, 15505.73, 127382.3, 35534.17],\n",
              "       [0.0, 1.0, 120542.52, 148718.95, 311613.29],\n",
              "       [0.0, 0.0, 91992.39, 135495.07, 252664.93],\n",
              "       [0.0, 0.0, 64664.71, 139553.16, 137962.62],\n",
              "       [0.0, 1.0, 131876.9, 99814.71, 362861.36],\n",
              "       [0.0, 1.0, 94657.16, 145077.58, 282574.31],\n",
              "       [0.0, 0.0, 28754.33, 118546.05, 172795.67],\n",
              "       [0.0, 0.0, 0.0, 116983.8, 45173.06],\n",
              "       [0.0, 0.0, 162597.7, 151377.59, 443898.53],\n",
              "       [1.0, 0.0, 93863.75, 127320.38, 249839.44],\n",
              "       [0.0, 0.0, 44069.95, 51283.14, 197029.42],\n",
              "       [0.0, 1.0, 77044.01, 99281.34, 140574.81],\n",
              "       [0.0, 0.0, 134615.46, 147198.87, 127716.82],\n",
              "       [1.0, 0.0, 67532.53, 105751.03, 304768.73],\n",
              "       [1.0, 0.0, 28663.76, 127056.21, 201126.82],\n",
              "       [0.0, 1.0, 78389.47, 153773.43, 299737.29],\n",
              "       [0.0, 1.0, 86419.7, 153514.11, 0.0],\n",
              "       [0.0, 0.0, 123334.88, 108679.17, 304981.62],\n",
              "       [0.0, 0.0, 38558.51, 82982.09, 174999.3],\n",
              "       [1.0, 0.0, 1315.46, 115816.21, 297114.46],\n",
              "       [0.0, 1.0, 144372.41, 118671.85, 383199.62],\n",
              "       [0.0, 1.0, 165349.2, 136897.8, 471784.1],\n",
              "       [0.0, 0.0, 0.0, 135426.92, 0.0],\n",
              "       [0.0, 0.0, 22177.74, 154806.14, 28334.72]], dtype=object)"
            ]
          },
          "metadata": {},
          "execution_count": 10
        }
      ]
    },
    {
      "cell_type": "code",
      "source": [
        "x_test"
      ],
      "metadata": {
        "colab": {
          "base_uri": "https://localhost:8080/"
        },
        "id": "m4qM0BHj2ov0",
        "outputId": "4dd19937-39f1-4908-aee0-46b08128396f"
      },
      "execution_count": null,
      "outputs": [
        {
          "output_type": "execute_result",
          "data": {
            "text/plain": [
              "array([[1.0, 0.0, 66051.52, 182645.56, 118148.2],\n",
              "       [0.0, 0.0, 100671.96, 91790.61, 249744.55],\n",
              "       [1.0, 0.0, 101913.08, 110594.11, 229160.95],\n",
              "       [1.0, 0.0, 27892.92, 84710.77, 164470.71],\n",
              "       [1.0, 0.0, 153441.51, 101145.55, 407934.54],\n",
              "       [0.0, 1.0, 72107.6, 127864.55, 353183.81],\n",
              "       [0.0, 1.0, 20229.59, 65947.93, 185265.1],\n",
              "       [0.0, 1.0, 61136.38, 152701.92, 88218.23],\n",
              "       [1.0, 0.0, 73994.56, 122782.75, 303319.26],\n",
              "       [1.0, 0.0, 142107.34, 91391.77, 366168.42]], dtype=object)"
            ]
          },
          "metadata": {},
          "execution_count": 11
        }
      ]
    },
    {
      "cell_type": "code",
      "source": [
        "y_train"
      ],
      "metadata": {
        "colab": {
          "base_uri": "https://localhost:8080/"
        },
        "id": "_5QndjYn2kJo",
        "outputId": "8f264c10-c240-49e1-a757-3db933099778"
      },
      "execution_count": null,
      "outputs": [
        {
          "output_type": "execute_result",
          "data": {
            "text/plain": [
              "array([ 96778.92,  96479.51, 105733.54,  96712.8 , 124266.9 , 155752.6 ,\n",
              "       132602.65,  64926.08,  35673.41, 101004.64, 129917.04,  99937.59,\n",
              "        97427.84, 126992.93,  71498.49, 118474.03,  69758.98, 152211.77,\n",
              "       134307.35, 107404.34, 156991.12, 125370.37,  78239.91,  14681.4 ,\n",
              "       191792.06, 141585.52,  89949.14, 108552.04, 156122.51, 108733.99,\n",
              "        90708.19, 111313.02, 122776.86, 149759.96,  81005.76,  49490.75,\n",
              "       182901.99, 192261.83,  42559.73,  65200.33])"
            ]
          },
          "metadata": {},
          "execution_count": 12
        }
      ]
    },
    {
      "cell_type": "code",
      "source": [
        "y_test"
      ],
      "metadata": {
        "colab": {
          "base_uri": "https://localhost:8080/"
        },
        "id": "ygiLtQhH23Ih",
        "outputId": "9f39ed5b-d2f4-4445-fd54-2647cc88bac6"
      },
      "execution_count": null,
      "outputs": [
        {
          "output_type": "execute_result",
          "data": {
            "text/plain": [
              "array([103282.38, 144259.4 , 146121.95,  77798.83, 191050.39, 105008.31,\n",
              "        81229.06,  97483.56, 110352.25, 166187.94])"
            ]
          },
          "metadata": {},
          "execution_count": 13
        }
      ]
    },
    {
      "cell_type": "code",
      "source": [
        "# Multiple linear regression\n",
        "from sklearn.linear_model import LinearRegression\n",
        "regressor = LinearRegression()\n",
        "regressor.fit(x_train,y_train)"
      ],
      "metadata": {
        "id": "KvH_IqIN19qx",
        "colab": {
          "base_uri": "https://localhost:8080/",
          "height": 74
        },
        "outputId": "5400044d-4be6-469e-d7e0-177f9ab7a7c7"
      },
      "execution_count": null,
      "outputs": [
        {
          "output_type": "execute_result",
          "data": {
            "text/plain": [
              "LinearRegression()"
            ],
            "text/html": [
              "<style>#sk-container-id-2 {color: black;background-color: white;}#sk-container-id-2 pre{padding: 0;}#sk-container-id-2 div.sk-toggleable {background-color: white;}#sk-container-id-2 label.sk-toggleable__label {cursor: pointer;display: block;width: 100%;margin-bottom: 0;padding: 0.3em;box-sizing: border-box;text-align: center;}#sk-container-id-2 label.sk-toggleable__label-arrow:before {content: \"▸\";float: left;margin-right: 0.25em;color: #696969;}#sk-container-id-2 label.sk-toggleable__label-arrow:hover:before {color: black;}#sk-container-id-2 div.sk-estimator:hover label.sk-toggleable__label-arrow:before {color: black;}#sk-container-id-2 div.sk-toggleable__content {max-height: 0;max-width: 0;overflow: hidden;text-align: left;background-color: #f0f8ff;}#sk-container-id-2 div.sk-toggleable__content pre {margin: 0.2em;color: black;border-radius: 0.25em;background-color: #f0f8ff;}#sk-container-id-2 input.sk-toggleable__control:checked~div.sk-toggleable__content {max-height: 200px;max-width: 100%;overflow: auto;}#sk-container-id-2 input.sk-toggleable__control:checked~label.sk-toggleable__label-arrow:before {content: \"▾\";}#sk-container-id-2 div.sk-estimator input.sk-toggleable__control:checked~label.sk-toggleable__label {background-color: #d4ebff;}#sk-container-id-2 div.sk-label input.sk-toggleable__control:checked~label.sk-toggleable__label {background-color: #d4ebff;}#sk-container-id-2 input.sk-hidden--visually {border: 0;clip: rect(1px 1px 1px 1px);clip: rect(1px, 1px, 1px, 1px);height: 1px;margin: -1px;overflow: hidden;padding: 0;position: absolute;width: 1px;}#sk-container-id-2 div.sk-estimator {font-family: monospace;background-color: #f0f8ff;border: 1px dotted black;border-radius: 0.25em;box-sizing: border-box;margin-bottom: 0.5em;}#sk-container-id-2 div.sk-estimator:hover {background-color: #d4ebff;}#sk-container-id-2 div.sk-parallel-item::after {content: \"\";width: 100%;border-bottom: 1px solid gray;flex-grow: 1;}#sk-container-id-2 div.sk-label:hover label.sk-toggleable__label {background-color: #d4ebff;}#sk-container-id-2 div.sk-serial::before {content: \"\";position: absolute;border-left: 1px solid gray;box-sizing: border-box;top: 0;bottom: 0;left: 50%;z-index: 0;}#sk-container-id-2 div.sk-serial {display: flex;flex-direction: column;align-items: center;background-color: white;padding-right: 0.2em;padding-left: 0.2em;position: relative;}#sk-container-id-2 div.sk-item {position: relative;z-index: 1;}#sk-container-id-2 div.sk-parallel {display: flex;align-items: stretch;justify-content: center;background-color: white;position: relative;}#sk-container-id-2 div.sk-item::before, #sk-container-id-2 div.sk-parallel-item::before {content: \"\";position: absolute;border-left: 1px solid gray;box-sizing: border-box;top: 0;bottom: 0;left: 50%;z-index: -1;}#sk-container-id-2 div.sk-parallel-item {display: flex;flex-direction: column;z-index: 1;position: relative;background-color: white;}#sk-container-id-2 div.sk-parallel-item:first-child::after {align-self: flex-end;width: 50%;}#sk-container-id-2 div.sk-parallel-item:last-child::after {align-self: flex-start;width: 50%;}#sk-container-id-2 div.sk-parallel-item:only-child::after {width: 0;}#sk-container-id-2 div.sk-dashed-wrapped {border: 1px dashed gray;margin: 0 0.4em 0.5em 0.4em;box-sizing: border-box;padding-bottom: 0.4em;background-color: white;}#sk-container-id-2 div.sk-label label {font-family: monospace;font-weight: bold;display: inline-block;line-height: 1.2em;}#sk-container-id-2 div.sk-label-container {text-align: center;}#sk-container-id-2 div.sk-container {/* jupyter's `normalize.less` sets `[hidden] { display: none; }` but bootstrap.min.css set `[hidden] { display: none !important; }` so we also need the `!important` here to be able to override the default hidden behavior on the sphinx rendered scikit-learn.org. See: https://github.com/scikit-learn/scikit-learn/issues/21755 */display: inline-block !important;position: relative;}#sk-container-id-2 div.sk-text-repr-fallback {display: none;}</style><div id=\"sk-container-id-2\" class=\"sk-top-container\"><div class=\"sk-text-repr-fallback\"><pre>LinearRegression()</pre><b>In a Jupyter environment, please rerun this cell to show the HTML representation or trust the notebook. <br />On GitHub, the HTML representation is unable to render, please try loading this page with nbviewer.org.</b></div><div class=\"sk-container\" hidden><div class=\"sk-item\"><div class=\"sk-estimator sk-toggleable\"><input class=\"sk-toggleable__control sk-hidden--visually\" id=\"sk-estimator-id-2\" type=\"checkbox\" checked><label for=\"sk-estimator-id-2\" class=\"sk-toggleable__label sk-toggleable__label-arrow\">LinearRegression</label><div class=\"sk-toggleable__content\"><pre>LinearRegression()</pre></div></div></div></div></div>"
            ]
          },
          "metadata": {},
          "execution_count": 21
        }
      ]
    },
    {
      "cell_type": "code",
      "source": [
        "# Predicting the Test set Results\n",
        "y_pred = regressor.predict(x_test)"
      ],
      "metadata": {
        "id": "PY0ucolAgcUX"
      },
      "execution_count": null,
      "outputs": []
    },
    {
      "cell_type": "code",
      "source": [
        "y_pred"
      ],
      "metadata": {
        "colab": {
          "base_uri": "https://localhost:8080/"
        },
        "id": "y1Dj6wYTgrRe",
        "outputId": "0bbd5194-fddc-4850-91e1-7f4aace12aea"
      },
      "execution_count": null,
      "outputs": [
        {
          "output_type": "execute_result",
          "data": {
            "text/plain": [
              "array([103015.20159796, 132582.27760816, 132447.73845175,  71976.09851259,\n",
              "       178537.48221054, 116161.24230163,  67851.69209676,  98791.73374688,\n",
              "       113969.43533012, 167921.0656955 ])"
            ]
          },
          "metadata": {},
          "execution_count": 24
        }
      ]
    },
    {
      "cell_type": "code",
      "source": [
        "y_test"
      ],
      "metadata": {
        "colab": {
          "base_uri": "https://localhost:8080/"
        },
        "id": "PvrrCvc_gteN",
        "outputId": "b4fbf01e-cfc5-4b8d-c7f5-48e500c64080"
      },
      "execution_count": null,
      "outputs": [
        {
          "output_type": "execute_result",
          "data": {
            "text/plain": [
              "array([103282.38, 144259.4 , 146121.95,  77798.83, 191050.39, 105008.31,\n",
              "        81229.06,  97483.56, 110352.25, 166187.94])"
            ]
          },
          "metadata": {},
          "execution_count": 25
        }
      ]
    },
    {
      "cell_type": "code",
      "source": [
        "# Measuring the Accuracy \n",
        "\n",
        "from sklearn.metrics import mean_absolute_error, mean_squared_error,mean_absolute_percentage_error,r2_score\n",
        "mae = mean_absolute_error(y_true = y_test,y_pred = y_pred)\n",
        "mse = mean_squared_error(y_true = y_test,y_pred = y_pred) # default True\n",
        "rmse = mean_squared_error(y_true = y_test,y_pred = y_pred, squared=False)\n",
        "mape = mean_absolute_percentage_error(y_true = y_test,y_pred = y_pred)\n",
        "rsquare = r2_score(y_true = y_test,y_pred = y_pred)\n",
        "\n",
        "print(\"MAE:\",mae)\n",
        "print(\"MSE:\",mse)\n",
        "print(\"RMSE:\",rmse)\n",
        "print(\"MAPE:\",mape)\n",
        "print(\"Adj.Rsquare:\",rsquare)"
      ],
      "metadata": {
        "colab": {
          "base_uri": "https://localhost:8080/"
        },
        "id": "scNy3AY_gvjX",
        "outputId": "990c620a-7cc5-470e-8e1b-dcde29a3ebaa"
      },
      "execution_count": null,
      "outputs": [
        {
          "output_type": "stream",
          "name": "stdout",
          "text": [
            "MAE: 7514.293659636814\n",
            "MSE: 83502864.03250548\n",
            "RMSE: 9137.990152791011\n",
            "MAPE: 0.06449754085351496\n",
            "Adj.Rsquare: 0.9347068473282987\n"
          ]
        }
      ]
    },
    {
      "cell_type": "code",
      "source": [
        "# Building optimal Model\n",
        "import statsmodels.api as sm\n",
        "x = np.append(arr = np.ones((50,1)).astype(int), values =x,axis =1)"
      ],
      "metadata": {
        "id": "SBQXtxtNfiN1"
      },
      "execution_count": null,
      "outputs": []
    },
    {
      "cell_type": "code",
      "source": [
        "x"
      ],
      "metadata": {
        "colab": {
          "base_uri": "https://localhost:8080/"
        },
        "id": "xnoQIP4ggMFA",
        "outputId": "7da43406-fa46-4e01-eed4-c3072488ef86"
      },
      "execution_count": null,
      "outputs": [
        {
          "output_type": "execute_result",
          "data": {
            "text/plain": [
              "array([[1, 0.0, 1.0, 165349.2, 136897.8, 471784.1],\n",
              "       [1, 0.0, 0.0, 162597.7, 151377.59, 443898.53],\n",
              "       [1, 1.0, 0.0, 153441.51, 101145.55, 407934.54],\n",
              "       [1, 0.0, 1.0, 144372.41, 118671.85, 383199.62],\n",
              "       [1, 1.0, 0.0, 142107.34, 91391.77, 366168.42],\n",
              "       [1, 0.0, 1.0, 131876.9, 99814.71, 362861.36],\n",
              "       [1, 0.0, 0.0, 134615.46, 147198.87, 127716.82],\n",
              "       [1, 1.0, 0.0, 130298.13, 145530.06, 323876.68],\n",
              "       [1, 0.0, 1.0, 120542.52, 148718.95, 311613.29],\n",
              "       [1, 0.0, 0.0, 123334.88, 108679.17, 304981.62],\n",
              "       [1, 1.0, 0.0, 101913.08, 110594.11, 229160.95],\n",
              "       [1, 0.0, 0.0, 100671.96, 91790.61, 249744.55],\n",
              "       [1, 1.0, 0.0, 93863.75, 127320.38, 249839.44],\n",
              "       [1, 0.0, 0.0, 91992.39, 135495.07, 252664.93],\n",
              "       [1, 1.0, 0.0, 119943.24, 156547.42, 256512.92],\n",
              "       [1, 0.0, 1.0, 114523.61, 122616.84, 261776.23],\n",
              "       [1, 0.0, 0.0, 78013.11, 121597.55, 264346.06],\n",
              "       [1, 0.0, 1.0, 94657.16, 145077.58, 282574.31],\n",
              "       [1, 1.0, 0.0, 91749.16, 114175.79, 294919.57],\n",
              "       [1, 0.0, 1.0, 86419.7, 153514.11, 0.0],\n",
              "       [1, 0.0, 0.0, 76253.86, 113867.3, 298664.47],\n",
              "       [1, 0.0, 1.0, 78389.47, 153773.43, 299737.29],\n",
              "       [1, 1.0, 0.0, 73994.56, 122782.75, 303319.26],\n",
              "       [1, 1.0, 0.0, 67532.53, 105751.03, 304768.73],\n",
              "       [1, 0.0, 1.0, 77044.01, 99281.34, 140574.81],\n",
              "       [1, 0.0, 0.0, 64664.71, 139553.16, 137962.62],\n",
              "       [1, 1.0, 0.0, 75328.87, 144135.98, 134050.07],\n",
              "       [1, 0.0, 1.0, 72107.6, 127864.55, 353183.81],\n",
              "       [1, 1.0, 0.0, 66051.52, 182645.56, 118148.2],\n",
              "       [1, 0.0, 1.0, 65605.48, 153032.06, 107138.38],\n",
              "       [1, 1.0, 0.0, 61994.48, 115641.28, 91131.24],\n",
              "       [1, 0.0, 1.0, 61136.38, 152701.92, 88218.23],\n",
              "       [1, 0.0, 0.0, 63408.86, 129219.61, 46085.25],\n",
              "       [1, 1.0, 0.0, 55493.95, 103057.49, 214634.81],\n",
              "       [1, 0.0, 0.0, 46426.07, 157693.92, 210797.67],\n",
              "       [1, 0.0, 1.0, 46014.02, 85047.44, 205517.64],\n",
              "       [1, 1.0, 0.0, 28663.76, 127056.21, 201126.82],\n",
              "       [1, 0.0, 0.0, 44069.95, 51283.14, 197029.42],\n",
              "       [1, 0.0, 1.0, 20229.59, 65947.93, 185265.1],\n",
              "       [1, 0.0, 0.0, 38558.51, 82982.09, 174999.3],\n",
              "       [1, 0.0, 0.0, 28754.33, 118546.05, 172795.67],\n",
              "       [1, 1.0, 0.0, 27892.92, 84710.77, 164470.71],\n",
              "       [1, 0.0, 0.0, 23640.93, 96189.63, 148001.11],\n",
              "       [1, 0.0, 1.0, 15505.73, 127382.3, 35534.17],\n",
              "       [1, 0.0, 0.0, 22177.74, 154806.14, 28334.72],\n",
              "       [1, 0.0, 1.0, 1000.23, 124153.04, 1903.93],\n",
              "       [1, 1.0, 0.0, 1315.46, 115816.21, 297114.46],\n",
              "       [1, 0.0, 0.0, 0.0, 135426.92, 0.0],\n",
              "       [1, 0.0, 1.0, 542.05, 51743.15, 0.0],\n",
              "       [1, 0.0, 0.0, 0.0, 116983.8, 45173.06]], dtype=object)"
            ]
          },
          "metadata": {},
          "execution_count": 19
        }
      ]
    },
    {
      "cell_type": "code",
      "source": [
        "# Backward Elimination\n",
        "x_opt =  x[:,[0,1,2,3,4,5]]"
      ],
      "metadata": {
        "id": "_Mf-16e6gNfB"
      },
      "execution_count": null,
      "outputs": []
    },
    {
      "cell_type": "code",
      "source": [
        "x_opt = np.array(x_opt,dtype = float)"
      ],
      "metadata": {
        "id": "YV_FSbqlhHAA"
      },
      "execution_count": null,
      "outputs": []
    },
    {
      "cell_type": "code",
      "source": [
        "regressor_OLS = sm.OLS(endog = y, exog = x_opt).fit()\n",
        "regressor_OLS.summary()"
      ],
      "metadata": {
        "colab": {
          "base_uri": "https://localhost:8080/",
          "height": 562
        },
        "id": "lBc1nudrhNfo",
        "outputId": "543d2498-ef6d-40e0-fe59-0742f3428821"
      },
      "execution_count": null,
      "outputs": [
        {
          "output_type": "execute_result",
          "data": {
            "text/plain": [
              "<class 'statsmodels.iolib.summary.Summary'>\n",
              "\"\"\"\n",
              "                            OLS Regression Results                            \n",
              "==============================================================================\n",
              "Dep. Variable:                      y   R-squared:                       0.951\n",
              "Model:                            OLS   Adj. R-squared:                  0.945\n",
              "Method:                 Least Squares   F-statistic:                     169.9\n",
              "Date:                Sun, 12 Mar 2023   Prob (F-statistic):           1.34e-27\n",
              "Time:                        06:33:29   Log-Likelihood:                -525.38\n",
              "No. Observations:                  50   AIC:                             1063.\n",
              "Df Residuals:                      44   BIC:                             1074.\n",
              "Df Model:                           5                                         \n",
              "Covariance Type:            nonrobust                                         \n",
              "==============================================================================\n",
              "                 coef    std err          t      P>|t|      [0.025      0.975]\n",
              "------------------------------------------------------------------------------\n",
              "const       5.013e+04   6884.820      7.281      0.000    3.62e+04     6.4e+04\n",
              "x1           198.7888   3371.007      0.059      0.953   -6595.030    6992.607\n",
              "x2           -41.8870   3256.039     -0.013      0.990   -6604.003    6520.229\n",
              "x3             0.8060      0.046     17.369      0.000       0.712       0.900\n",
              "x4            -0.0270      0.052     -0.517      0.608      -0.132       0.078\n",
              "x5             0.0270      0.017      1.574      0.123      -0.008       0.062\n",
              "==============================================================================\n",
              "Omnibus:                       14.782   Durbin-Watson:                   1.283\n",
              "Prob(Omnibus):                  0.001   Jarque-Bera (JB):               21.266\n",
              "Skew:                          -0.948   Prob(JB):                     2.41e-05\n",
              "Kurtosis:                       5.572   Cond. No.                     1.45e+06\n",
              "==============================================================================\n",
              "\n",
              "Notes:\n",
              "[1] Standard Errors assume that the covariance matrix of the errors is correctly specified.\n",
              "[2] The condition number is large, 1.45e+06. This might indicate that there are\n",
              "strong multicollinearity or other numerical problems.\n",
              "\"\"\""
            ],
            "text/html": [
              "<table class=\"simpletable\">\n",
              "<caption>OLS Regression Results</caption>\n",
              "<tr>\n",
              "  <th>Dep. Variable:</th>            <td>y</td>        <th>  R-squared:         </th> <td>   0.951</td>\n",
              "</tr>\n",
              "<tr>\n",
              "  <th>Model:</th>                   <td>OLS</td>       <th>  Adj. R-squared:    </th> <td>   0.945</td>\n",
              "</tr>\n",
              "<tr>\n",
              "  <th>Method:</th>             <td>Least Squares</td>  <th>  F-statistic:       </th> <td>   169.9</td>\n",
              "</tr>\n",
              "<tr>\n",
              "  <th>Date:</th>             <td>Sun, 12 Mar 2023</td> <th>  Prob (F-statistic):</th> <td>1.34e-27</td>\n",
              "</tr>\n",
              "<tr>\n",
              "  <th>Time:</th>                 <td>06:33:29</td>     <th>  Log-Likelihood:    </th> <td> -525.38</td>\n",
              "</tr>\n",
              "<tr>\n",
              "  <th>No. Observations:</th>      <td>    50</td>      <th>  AIC:               </th> <td>   1063.</td>\n",
              "</tr>\n",
              "<tr>\n",
              "  <th>Df Residuals:</th>          <td>    44</td>      <th>  BIC:               </th> <td>   1074.</td>\n",
              "</tr>\n",
              "<tr>\n",
              "  <th>Df Model:</th>              <td>     5</td>      <th>                     </th>     <td> </td>   \n",
              "</tr>\n",
              "<tr>\n",
              "  <th>Covariance Type:</th>      <td>nonrobust</td>    <th>                     </th>     <td> </td>   \n",
              "</tr>\n",
              "</table>\n",
              "<table class=\"simpletable\">\n",
              "<tr>\n",
              "    <td></td>       <th>coef</th>     <th>std err</th>      <th>t</th>      <th>P>|t|</th>  <th>[0.025</th>    <th>0.975]</th>  \n",
              "</tr>\n",
              "<tr>\n",
              "  <th>const</th> <td> 5.013e+04</td> <td> 6884.820</td> <td>    7.281</td> <td> 0.000</td> <td> 3.62e+04</td> <td>  6.4e+04</td>\n",
              "</tr>\n",
              "<tr>\n",
              "  <th>x1</th>    <td>  198.7888</td> <td> 3371.007</td> <td>    0.059</td> <td> 0.953</td> <td>-6595.030</td> <td> 6992.607</td>\n",
              "</tr>\n",
              "<tr>\n",
              "  <th>x2</th>    <td>  -41.8870</td> <td> 3256.039</td> <td>   -0.013</td> <td> 0.990</td> <td>-6604.003</td> <td> 6520.229</td>\n",
              "</tr>\n",
              "<tr>\n",
              "  <th>x3</th>    <td>    0.8060</td> <td>    0.046</td> <td>   17.369</td> <td> 0.000</td> <td>    0.712</td> <td>    0.900</td>\n",
              "</tr>\n",
              "<tr>\n",
              "  <th>x4</th>    <td>   -0.0270</td> <td>    0.052</td> <td>   -0.517</td> <td> 0.608</td> <td>   -0.132</td> <td>    0.078</td>\n",
              "</tr>\n",
              "<tr>\n",
              "  <th>x5</th>    <td>    0.0270</td> <td>    0.017</td> <td>    1.574</td> <td> 0.123</td> <td>   -0.008</td> <td>    0.062</td>\n",
              "</tr>\n",
              "</table>\n",
              "<table class=\"simpletable\">\n",
              "<tr>\n",
              "  <th>Omnibus:</th>       <td>14.782</td> <th>  Durbin-Watson:     </th> <td>   1.283</td>\n",
              "</tr>\n",
              "<tr>\n",
              "  <th>Prob(Omnibus):</th> <td> 0.001</td> <th>  Jarque-Bera (JB):  </th> <td>  21.266</td>\n",
              "</tr>\n",
              "<tr>\n",
              "  <th>Skew:</th>          <td>-0.948</td> <th>  Prob(JB):          </th> <td>2.41e-05</td>\n",
              "</tr>\n",
              "<tr>\n",
              "  <th>Kurtosis:</th>      <td> 5.572</td> <th>  Cond. No.          </th> <td>1.45e+06</td>\n",
              "</tr>\n",
              "</table><br/><br/>Notes:<br/>[1] Standard Errors assume that the covariance matrix of the errors is correctly specified.<br/>[2] The condition number is large, 1.45e+06. This might indicate that there are<br/>strong multicollinearity or other numerical problems."
            ]
          },
          "metadata": {},
          "execution_count": 29
        }
      ]
    },
    {
      "cell_type": "code",
      "source": [
        "x_opt =  x[:,[0,1,3,4,5]]\n",
        "x_opt = np.array(x_opt,dtype = float)\n",
        "regressor_OLS = sm.OLS(endog = y, exog = x_opt).fit()\n",
        "regressor_OLS.summary()"
      ],
      "metadata": {
        "colab": {
          "base_uri": "https://localhost:8080/",
          "height": 541
        },
        "id": "L5wZ-05shjBN",
        "outputId": "7674153a-3f84-41a9-9853-2e98b377b87f"
      },
      "execution_count": null,
      "outputs": [
        {
          "output_type": "execute_result",
          "data": {
            "text/plain": [
              "<class 'statsmodels.iolib.summary.Summary'>\n",
              "\"\"\"\n",
              "                            OLS Regression Results                            \n",
              "==============================================================================\n",
              "Dep. Variable:                      y   R-squared:                       0.951\n",
              "Model:                            OLS   Adj. R-squared:                  0.946\n",
              "Method:                 Least Squares   F-statistic:                     217.2\n",
              "Date:                Sun, 12 Mar 2023   Prob (F-statistic):           8.49e-29\n",
              "Time:                        06:37:40   Log-Likelihood:                -525.38\n",
              "No. Observations:                  50   AIC:                             1061.\n",
              "Df Residuals:                      45   BIC:                             1070.\n",
              "Df Model:                           4                                         \n",
              "Covariance Type:            nonrobust                                         \n",
              "==============================================================================\n",
              "                 coef    std err          t      P>|t|      [0.025      0.975]\n",
              "------------------------------------------------------------------------------\n",
              "const       5.011e+04   6647.870      7.537      0.000    3.67e+04    6.35e+04\n",
              "x1           220.1585   2900.536      0.076      0.940   -5621.821    6062.138\n",
              "x2             0.8060      0.046     17.606      0.000       0.714       0.898\n",
              "x3            -0.0270      0.052     -0.523      0.604      -0.131       0.077\n",
              "x4             0.0270      0.017      1.592      0.118      -0.007       0.061\n",
              "==============================================================================\n",
              "Omnibus:                       14.758   Durbin-Watson:                   1.282\n",
              "Prob(Omnibus):                  0.001   Jarque-Bera (JB):               21.172\n",
              "Skew:                          -0.948   Prob(JB):                     2.53e-05\n",
              "Kurtosis:                       5.563   Cond. No.                     1.40e+06\n",
              "==============================================================================\n",
              "\n",
              "Notes:\n",
              "[1] Standard Errors assume that the covariance matrix of the errors is correctly specified.\n",
              "[2] The condition number is large, 1.4e+06. This might indicate that there are\n",
              "strong multicollinearity or other numerical problems.\n",
              "\"\"\""
            ],
            "text/html": [
              "<table class=\"simpletable\">\n",
              "<caption>OLS Regression Results</caption>\n",
              "<tr>\n",
              "  <th>Dep. Variable:</th>            <td>y</td>        <th>  R-squared:         </th> <td>   0.951</td>\n",
              "</tr>\n",
              "<tr>\n",
              "  <th>Model:</th>                   <td>OLS</td>       <th>  Adj. R-squared:    </th> <td>   0.946</td>\n",
              "</tr>\n",
              "<tr>\n",
              "  <th>Method:</th>             <td>Least Squares</td>  <th>  F-statistic:       </th> <td>   217.2</td>\n",
              "</tr>\n",
              "<tr>\n",
              "  <th>Date:</th>             <td>Sun, 12 Mar 2023</td> <th>  Prob (F-statistic):</th> <td>8.49e-29</td>\n",
              "</tr>\n",
              "<tr>\n",
              "  <th>Time:</th>                 <td>06:37:40</td>     <th>  Log-Likelihood:    </th> <td> -525.38</td>\n",
              "</tr>\n",
              "<tr>\n",
              "  <th>No. Observations:</th>      <td>    50</td>      <th>  AIC:               </th> <td>   1061.</td>\n",
              "</tr>\n",
              "<tr>\n",
              "  <th>Df Residuals:</th>          <td>    45</td>      <th>  BIC:               </th> <td>   1070.</td>\n",
              "</tr>\n",
              "<tr>\n",
              "  <th>Df Model:</th>              <td>     4</td>      <th>                     </th>     <td> </td>   \n",
              "</tr>\n",
              "<tr>\n",
              "  <th>Covariance Type:</th>      <td>nonrobust</td>    <th>                     </th>     <td> </td>   \n",
              "</tr>\n",
              "</table>\n",
              "<table class=\"simpletable\">\n",
              "<tr>\n",
              "    <td></td>       <th>coef</th>     <th>std err</th>      <th>t</th>      <th>P>|t|</th>  <th>[0.025</th>    <th>0.975]</th>  \n",
              "</tr>\n",
              "<tr>\n",
              "  <th>const</th> <td> 5.011e+04</td> <td> 6647.870</td> <td>    7.537</td> <td> 0.000</td> <td> 3.67e+04</td> <td> 6.35e+04</td>\n",
              "</tr>\n",
              "<tr>\n",
              "  <th>x1</th>    <td>  220.1585</td> <td> 2900.536</td> <td>    0.076</td> <td> 0.940</td> <td>-5621.821</td> <td> 6062.138</td>\n",
              "</tr>\n",
              "<tr>\n",
              "  <th>x2</th>    <td>    0.8060</td> <td>    0.046</td> <td>   17.606</td> <td> 0.000</td> <td>    0.714</td> <td>    0.898</td>\n",
              "</tr>\n",
              "<tr>\n",
              "  <th>x3</th>    <td>   -0.0270</td> <td>    0.052</td> <td>   -0.523</td> <td> 0.604</td> <td>   -0.131</td> <td>    0.077</td>\n",
              "</tr>\n",
              "<tr>\n",
              "  <th>x4</th>    <td>    0.0270</td> <td>    0.017</td> <td>    1.592</td> <td> 0.118</td> <td>   -0.007</td> <td>    0.061</td>\n",
              "</tr>\n",
              "</table>\n",
              "<table class=\"simpletable\">\n",
              "<tr>\n",
              "  <th>Omnibus:</th>       <td>14.758</td> <th>  Durbin-Watson:     </th> <td>   1.282</td>\n",
              "</tr>\n",
              "<tr>\n",
              "  <th>Prob(Omnibus):</th> <td> 0.001</td> <th>  Jarque-Bera (JB):  </th> <td>  21.172</td>\n",
              "</tr>\n",
              "<tr>\n",
              "  <th>Skew:</th>          <td>-0.948</td> <th>  Prob(JB):          </th> <td>2.53e-05</td>\n",
              "</tr>\n",
              "<tr>\n",
              "  <th>Kurtosis:</th>      <td> 5.563</td> <th>  Cond. No.          </th> <td>1.40e+06</td>\n",
              "</tr>\n",
              "</table><br/><br/>Notes:<br/>[1] Standard Errors assume that the covariance matrix of the errors is correctly specified.<br/>[2] The condition number is large, 1.4e+06. This might indicate that there are<br/>strong multicollinearity or other numerical problems."
            ]
          },
          "metadata": {},
          "execution_count": 30
        }
      ]
    },
    {
      "cell_type": "code",
      "source": [
        "x_opt =  x[:,[0,3,4,5]]\n",
        "x_opt = np.array(x_opt,dtype = float)\n",
        "regressor_OLS = sm.OLS(endog = y, exog = x_opt).fit()\n",
        "regressor_OLS.summary()"
      ],
      "metadata": {
        "colab": {
          "base_uri": "https://localhost:8080/",
          "height": 520
        },
        "id": "R3Xk4RWXhf0l",
        "outputId": "d95aa1be-726b-4970-a229-10efff3e3088"
      },
      "execution_count": null,
      "outputs": [
        {
          "output_type": "execute_result",
          "data": {
            "text/plain": [
              "<class 'statsmodels.iolib.summary.Summary'>\n",
              "\"\"\"\n",
              "                            OLS Regression Results                            \n",
              "==============================================================================\n",
              "Dep. Variable:                      y   R-squared:                       0.951\n",
              "Model:                            OLS   Adj. R-squared:                  0.948\n",
              "Method:                 Least Squares   F-statistic:                     296.0\n",
              "Date:                Sun, 12 Mar 2023   Prob (F-statistic):           4.53e-30\n",
              "Time:                        06:38:57   Log-Likelihood:                -525.39\n",
              "No. Observations:                  50   AIC:                             1059.\n",
              "Df Residuals:                      46   BIC:                             1066.\n",
              "Df Model:                           3                                         \n",
              "Covariance Type:            nonrobust                                         \n",
              "==============================================================================\n",
              "                 coef    std err          t      P>|t|      [0.025      0.975]\n",
              "------------------------------------------------------------------------------\n",
              "const       5.012e+04   6572.353      7.626      0.000    3.69e+04    6.34e+04\n",
              "x1             0.8057      0.045     17.846      0.000       0.715       0.897\n",
              "x2            -0.0268      0.051     -0.526      0.602      -0.130       0.076\n",
              "x3             0.0272      0.016      1.655      0.105      -0.006       0.060\n",
              "==============================================================================\n",
              "Omnibus:                       14.838   Durbin-Watson:                   1.282\n",
              "Prob(Omnibus):                  0.001   Jarque-Bera (JB):               21.442\n",
              "Skew:                          -0.949   Prob(JB):                     2.21e-05\n",
              "Kurtosis:                       5.586   Cond. No.                     1.40e+06\n",
              "==============================================================================\n",
              "\n",
              "Notes:\n",
              "[1] Standard Errors assume that the covariance matrix of the errors is correctly specified.\n",
              "[2] The condition number is large, 1.4e+06. This might indicate that there are\n",
              "strong multicollinearity or other numerical problems.\n",
              "\"\"\""
            ],
            "text/html": [
              "<table class=\"simpletable\">\n",
              "<caption>OLS Regression Results</caption>\n",
              "<tr>\n",
              "  <th>Dep. Variable:</th>            <td>y</td>        <th>  R-squared:         </th> <td>   0.951</td>\n",
              "</tr>\n",
              "<tr>\n",
              "  <th>Model:</th>                   <td>OLS</td>       <th>  Adj. R-squared:    </th> <td>   0.948</td>\n",
              "</tr>\n",
              "<tr>\n",
              "  <th>Method:</th>             <td>Least Squares</td>  <th>  F-statistic:       </th> <td>   296.0</td>\n",
              "</tr>\n",
              "<tr>\n",
              "  <th>Date:</th>             <td>Sun, 12 Mar 2023</td> <th>  Prob (F-statistic):</th> <td>4.53e-30</td>\n",
              "</tr>\n",
              "<tr>\n",
              "  <th>Time:</th>                 <td>06:38:57</td>     <th>  Log-Likelihood:    </th> <td> -525.39</td>\n",
              "</tr>\n",
              "<tr>\n",
              "  <th>No. Observations:</th>      <td>    50</td>      <th>  AIC:               </th> <td>   1059.</td>\n",
              "</tr>\n",
              "<tr>\n",
              "  <th>Df Residuals:</th>          <td>    46</td>      <th>  BIC:               </th> <td>   1066.</td>\n",
              "</tr>\n",
              "<tr>\n",
              "  <th>Df Model:</th>              <td>     3</td>      <th>                     </th>     <td> </td>   \n",
              "</tr>\n",
              "<tr>\n",
              "  <th>Covariance Type:</th>      <td>nonrobust</td>    <th>                     </th>     <td> </td>   \n",
              "</tr>\n",
              "</table>\n",
              "<table class=\"simpletable\">\n",
              "<tr>\n",
              "    <td></td>       <th>coef</th>     <th>std err</th>      <th>t</th>      <th>P>|t|</th>  <th>[0.025</th>    <th>0.975]</th>  \n",
              "</tr>\n",
              "<tr>\n",
              "  <th>const</th> <td> 5.012e+04</td> <td> 6572.353</td> <td>    7.626</td> <td> 0.000</td> <td> 3.69e+04</td> <td> 6.34e+04</td>\n",
              "</tr>\n",
              "<tr>\n",
              "  <th>x1</th>    <td>    0.8057</td> <td>    0.045</td> <td>   17.846</td> <td> 0.000</td> <td>    0.715</td> <td>    0.897</td>\n",
              "</tr>\n",
              "<tr>\n",
              "  <th>x2</th>    <td>   -0.0268</td> <td>    0.051</td> <td>   -0.526</td> <td> 0.602</td> <td>   -0.130</td> <td>    0.076</td>\n",
              "</tr>\n",
              "<tr>\n",
              "  <th>x3</th>    <td>    0.0272</td> <td>    0.016</td> <td>    1.655</td> <td> 0.105</td> <td>   -0.006</td> <td>    0.060</td>\n",
              "</tr>\n",
              "</table>\n",
              "<table class=\"simpletable\">\n",
              "<tr>\n",
              "  <th>Omnibus:</th>       <td>14.838</td> <th>  Durbin-Watson:     </th> <td>   1.282</td>\n",
              "</tr>\n",
              "<tr>\n",
              "  <th>Prob(Omnibus):</th> <td> 0.001</td> <th>  Jarque-Bera (JB):  </th> <td>  21.442</td>\n",
              "</tr>\n",
              "<tr>\n",
              "  <th>Skew:</th>          <td>-0.949</td> <th>  Prob(JB):          </th> <td>2.21e-05</td>\n",
              "</tr>\n",
              "<tr>\n",
              "  <th>Kurtosis:</th>      <td> 5.586</td> <th>  Cond. No.          </th> <td>1.40e+06</td>\n",
              "</tr>\n",
              "</table><br/><br/>Notes:<br/>[1] Standard Errors assume that the covariance matrix of the errors is correctly specified.<br/>[2] The condition number is large, 1.4e+06. This might indicate that there are<br/>strong multicollinearity or other numerical problems."
            ]
          },
          "metadata": {},
          "execution_count": 32
        }
      ]
    },
    {
      "cell_type": "code",
      "source": [
        "x_opt =  x[:,[0,3,5]]\n",
        "x_opt = np.array(x_opt,dtype = float)\n",
        "regressor_OLS = sm.OLS(endog = y, exog = x_opt).fit()\n",
        "regressor_OLS.summary()"
      ],
      "metadata": {
        "id": "ri7xeTwf-pKh",
        "colab": {
          "base_uri": "https://localhost:8080/",
          "height": 499
        },
        "outputId": "2609b669-1745-4491-b73a-4b52ad87e303"
      },
      "execution_count": null,
      "outputs": [
        {
          "output_type": "execute_result",
          "data": {
            "text/plain": [
              "<class 'statsmodels.iolib.summary.Summary'>\n",
              "\"\"\"\n",
              "                            OLS Regression Results                            \n",
              "==============================================================================\n",
              "Dep. Variable:                      y   R-squared:                       0.950\n",
              "Model:                            OLS   Adj. R-squared:                  0.948\n",
              "Method:                 Least Squares   F-statistic:                     450.8\n",
              "Date:                Sun, 12 Mar 2023   Prob (F-statistic):           2.16e-31\n",
              "Time:                        06:41:44   Log-Likelihood:                -525.54\n",
              "No. Observations:                  50   AIC:                             1057.\n",
              "Df Residuals:                      47   BIC:                             1063.\n",
              "Df Model:                           2                                         \n",
              "Covariance Type:            nonrobust                                         \n",
              "==============================================================================\n",
              "                 coef    std err          t      P>|t|      [0.025      0.975]\n",
              "------------------------------------------------------------------------------\n",
              "const       4.698e+04   2689.933     17.464      0.000    4.16e+04    5.24e+04\n",
              "x1             0.7966      0.041     19.266      0.000       0.713       0.880\n",
              "x2             0.0299      0.016      1.927      0.060      -0.001       0.061\n",
              "==============================================================================\n",
              "Omnibus:                       14.677   Durbin-Watson:                   1.257\n",
              "Prob(Omnibus):                  0.001   Jarque-Bera (JB):               21.161\n",
              "Skew:                          -0.939   Prob(JB):                     2.54e-05\n",
              "Kurtosis:                       5.575   Cond. No.                     5.32e+05\n",
              "==============================================================================\n",
              "\n",
              "Notes:\n",
              "[1] Standard Errors assume that the covariance matrix of the errors is correctly specified.\n",
              "[2] The condition number is large, 5.32e+05. This might indicate that there are\n",
              "strong multicollinearity or other numerical problems.\n",
              "\"\"\""
            ],
            "text/html": [
              "<table class=\"simpletable\">\n",
              "<caption>OLS Regression Results</caption>\n",
              "<tr>\n",
              "  <th>Dep. Variable:</th>            <td>y</td>        <th>  R-squared:         </th> <td>   0.950</td>\n",
              "</tr>\n",
              "<tr>\n",
              "  <th>Model:</th>                   <td>OLS</td>       <th>  Adj. R-squared:    </th> <td>   0.948</td>\n",
              "</tr>\n",
              "<tr>\n",
              "  <th>Method:</th>             <td>Least Squares</td>  <th>  F-statistic:       </th> <td>   450.8</td>\n",
              "</tr>\n",
              "<tr>\n",
              "  <th>Date:</th>             <td>Sun, 12 Mar 2023</td> <th>  Prob (F-statistic):</th> <td>2.16e-31</td>\n",
              "</tr>\n",
              "<tr>\n",
              "  <th>Time:</th>                 <td>06:41:44</td>     <th>  Log-Likelihood:    </th> <td> -525.54</td>\n",
              "</tr>\n",
              "<tr>\n",
              "  <th>No. Observations:</th>      <td>    50</td>      <th>  AIC:               </th> <td>   1057.</td>\n",
              "</tr>\n",
              "<tr>\n",
              "  <th>Df Residuals:</th>          <td>    47</td>      <th>  BIC:               </th> <td>   1063.</td>\n",
              "</tr>\n",
              "<tr>\n",
              "  <th>Df Model:</th>              <td>     2</td>      <th>                     </th>     <td> </td>   \n",
              "</tr>\n",
              "<tr>\n",
              "  <th>Covariance Type:</th>      <td>nonrobust</td>    <th>                     </th>     <td> </td>   \n",
              "</tr>\n",
              "</table>\n",
              "<table class=\"simpletable\">\n",
              "<tr>\n",
              "    <td></td>       <th>coef</th>     <th>std err</th>      <th>t</th>      <th>P>|t|</th>  <th>[0.025</th>    <th>0.975]</th>  \n",
              "</tr>\n",
              "<tr>\n",
              "  <th>const</th> <td> 4.698e+04</td> <td> 2689.933</td> <td>   17.464</td> <td> 0.000</td> <td> 4.16e+04</td> <td> 5.24e+04</td>\n",
              "</tr>\n",
              "<tr>\n",
              "  <th>x1</th>    <td>    0.7966</td> <td>    0.041</td> <td>   19.266</td> <td> 0.000</td> <td>    0.713</td> <td>    0.880</td>\n",
              "</tr>\n",
              "<tr>\n",
              "  <th>x2</th>    <td>    0.0299</td> <td>    0.016</td> <td>    1.927</td> <td> 0.060</td> <td>   -0.001</td> <td>    0.061</td>\n",
              "</tr>\n",
              "</table>\n",
              "<table class=\"simpletable\">\n",
              "<tr>\n",
              "  <th>Omnibus:</th>       <td>14.677</td> <th>  Durbin-Watson:     </th> <td>   1.257</td>\n",
              "</tr>\n",
              "<tr>\n",
              "  <th>Prob(Omnibus):</th> <td> 0.001</td> <th>  Jarque-Bera (JB):  </th> <td>  21.161</td>\n",
              "</tr>\n",
              "<tr>\n",
              "  <th>Skew:</th>          <td>-0.939</td> <th>  Prob(JB):          </th> <td>2.54e-05</td>\n",
              "</tr>\n",
              "<tr>\n",
              "  <th>Kurtosis:</th>      <td> 5.575</td> <th>  Cond. No.          </th> <td>5.32e+05</td>\n",
              "</tr>\n",
              "</table><br/><br/>Notes:<br/>[1] Standard Errors assume that the covariance matrix of the errors is correctly specified.<br/>[2] The condition number is large, 5.32e+05. This might indicate that there are<br/>strong multicollinearity or other numerical problems."
            ]
          },
          "metadata": {},
          "execution_count": 34
        }
      ]
    },
    {
      "cell_type": "code",
      "source": [
        "x_opt =  x[:,[0,3]]\n",
        "x_opt = np.array(x_opt,dtype = float)\n",
        "regressor_OLS = sm.OLS(endog = y, exog = x_opt).fit()\n",
        "regressor_OLS.summary()"
      ],
      "metadata": {
        "colab": {
          "base_uri": "https://localhost:8080/",
          "height": 478
        },
        "id": "eDnUooGQjbxb",
        "outputId": "38218066-6be5-40c6-abba-e1c60238fd63"
      },
      "execution_count": null,
      "outputs": [
        {
          "output_type": "execute_result",
          "data": {
            "text/plain": [
              "<class 'statsmodels.iolib.summary.Summary'>\n",
              "\"\"\"\n",
              "                            OLS Regression Results                            \n",
              "==============================================================================\n",
              "Dep. Variable:                      y   R-squared:                       0.947\n",
              "Model:                            OLS   Adj. R-squared:                  0.945\n",
              "Method:                 Least Squares   F-statistic:                     849.8\n",
              "Date:                Sun, 12 Mar 2023   Prob (F-statistic):           3.50e-32\n",
              "Time:                        06:43:38   Log-Likelihood:                -527.44\n",
              "No. Observations:                  50   AIC:                             1059.\n",
              "Df Residuals:                      48   BIC:                             1063.\n",
              "Df Model:                           1                                         \n",
              "Covariance Type:            nonrobust                                         \n",
              "==============================================================================\n",
              "                 coef    std err          t      P>|t|      [0.025      0.975]\n",
              "------------------------------------------------------------------------------\n",
              "const       4.903e+04   2537.897     19.320      0.000    4.39e+04    5.41e+04\n",
              "x1             0.8543      0.029     29.151      0.000       0.795       0.913\n",
              "==============================================================================\n",
              "Omnibus:                       13.727   Durbin-Watson:                   1.116\n",
              "Prob(Omnibus):                  0.001   Jarque-Bera (JB):               18.536\n",
              "Skew:                          -0.911   Prob(JB):                     9.44e-05\n",
              "Kurtosis:                       5.361   Cond. No.                     1.65e+05\n",
              "==============================================================================\n",
              "\n",
              "Notes:\n",
              "[1] Standard Errors assume that the covariance matrix of the errors is correctly specified.\n",
              "[2] The condition number is large, 1.65e+05. This might indicate that there are\n",
              "strong multicollinearity or other numerical problems.\n",
              "\"\"\""
            ],
            "text/html": [
              "<table class=\"simpletable\">\n",
              "<caption>OLS Regression Results</caption>\n",
              "<tr>\n",
              "  <th>Dep. Variable:</th>            <td>y</td>        <th>  R-squared:         </th> <td>   0.947</td>\n",
              "</tr>\n",
              "<tr>\n",
              "  <th>Model:</th>                   <td>OLS</td>       <th>  Adj. R-squared:    </th> <td>   0.945</td>\n",
              "</tr>\n",
              "<tr>\n",
              "  <th>Method:</th>             <td>Least Squares</td>  <th>  F-statistic:       </th> <td>   849.8</td>\n",
              "</tr>\n",
              "<tr>\n",
              "  <th>Date:</th>             <td>Sun, 12 Mar 2023</td> <th>  Prob (F-statistic):</th> <td>3.50e-32</td>\n",
              "</tr>\n",
              "<tr>\n",
              "  <th>Time:</th>                 <td>06:43:38</td>     <th>  Log-Likelihood:    </th> <td> -527.44</td>\n",
              "</tr>\n",
              "<tr>\n",
              "  <th>No. Observations:</th>      <td>    50</td>      <th>  AIC:               </th> <td>   1059.</td>\n",
              "</tr>\n",
              "<tr>\n",
              "  <th>Df Residuals:</th>          <td>    48</td>      <th>  BIC:               </th> <td>   1063.</td>\n",
              "</tr>\n",
              "<tr>\n",
              "  <th>Df Model:</th>              <td>     1</td>      <th>                     </th>     <td> </td>   \n",
              "</tr>\n",
              "<tr>\n",
              "  <th>Covariance Type:</th>      <td>nonrobust</td>    <th>                     </th>     <td> </td>   \n",
              "</tr>\n",
              "</table>\n",
              "<table class=\"simpletable\">\n",
              "<tr>\n",
              "    <td></td>       <th>coef</th>     <th>std err</th>      <th>t</th>      <th>P>|t|</th>  <th>[0.025</th>    <th>0.975]</th>  \n",
              "</tr>\n",
              "<tr>\n",
              "  <th>const</th> <td> 4.903e+04</td> <td> 2537.897</td> <td>   19.320</td> <td> 0.000</td> <td> 4.39e+04</td> <td> 5.41e+04</td>\n",
              "</tr>\n",
              "<tr>\n",
              "  <th>x1</th>    <td>    0.8543</td> <td>    0.029</td> <td>   29.151</td> <td> 0.000</td> <td>    0.795</td> <td>    0.913</td>\n",
              "</tr>\n",
              "</table>\n",
              "<table class=\"simpletable\">\n",
              "<tr>\n",
              "  <th>Omnibus:</th>       <td>13.727</td> <th>  Durbin-Watson:     </th> <td>   1.116</td>\n",
              "</tr>\n",
              "<tr>\n",
              "  <th>Prob(Omnibus):</th> <td> 0.001</td> <th>  Jarque-Bera (JB):  </th> <td>  18.536</td>\n",
              "</tr>\n",
              "<tr>\n",
              "  <th>Skew:</th>          <td>-0.911</td> <th>  Prob(JB):          </th> <td>9.44e-05</td>\n",
              "</tr>\n",
              "<tr>\n",
              "  <th>Kurtosis:</th>      <td> 5.361</td> <th>  Cond. No.          </th> <td>1.65e+05</td>\n",
              "</tr>\n",
              "</table><br/><br/>Notes:<br/>[1] Standard Errors assume that the covariance matrix of the errors is correctly specified.<br/>[2] The condition number is large, 1.65e+05. This might indicate that there are<br/>strong multicollinearity or other numerical problems."
            ]
          },
          "metadata": {},
          "execution_count": 36
        }
      ]
    },
    {
      "cell_type": "code",
      "source": [
        "# Data Visualization\n",
        "import seaborn as sns\n",
        "sns.lmplot(x = \"R&D Spend\", y = \"Profit\", data = dataset)\n"
      ],
      "metadata": {
        "colab": {
          "base_uri": "https://localhost:8080/",
          "height": 386
        },
        "id": "IuzOnOsuj3fO",
        "outputId": "46c4d29a-3cef-4bb4-aeca-7d356c3255a0"
      },
      "execution_count": null,
      "outputs": [
        {
          "output_type": "execute_result",
          "data": {
            "text/plain": [
              "<seaborn.axisgrid.FacetGrid at 0x7f0a814144f0>"
            ]
          },
          "metadata": {},
          "execution_count": 37
        },
        {
          "output_type": "display_data",
          "data": {
            "text/plain": [
              "<Figure size 360x360 with 1 Axes>"
            ],
            "image/png": "[encoded data removed]"
          },
          "metadata": {
            "needs_background": "light"
          }
        }
      ]
    }
  ]
}